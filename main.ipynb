{
 "cells": [
  {
   "cell_type": "code",
   "execution_count": 9,
   "metadata": {},
   "outputs": [],
   "source": [
    "import wfdb\n",
    "import numpy as np\n",
    "import matplotlib.pyplot as plt\n",
    "from scipy.signal import find_peaks, butter, filtfilt\n",
    "from sklearn.model_selection import train_test_split\n",
    "from sklearn.ensemble import RandomForestClassifier\n",
    "from sklearn.metrics import accuracy_score\n",
    "import wfdb.processing\n"
   ]
  },
  {
   "cell_type": "code",
   "execution_count": null,
   "metadata": {},
   "outputs": [
    {
     "name": "stdout",
     "output_type": "stream",
     "text": [
      "Baixando MIT-BIH Arrhythmia Database...\n"
     ]
    }
   ],
   "source": [
    "import os\n",
    "import requests\n",
    "import zipfile\n",
    "\n",
    "def download_and_extract_mitdb(destination=\"data/mitdb\"):\n",
    "    url = \"https://www.physionet.org/static/published-projects/mitdb/mit-bih-arrhythmia-database-1.0.0.zip\"\n",
    "    zip_path = \"mitdb.zip\"\n",
    "    \n",
    "    # Baixar o arquivo ZIP\n",
    "    print(\"Baixando MIT-BIH Arrhythmia Database...\")\n",
    "    response = requests.get(url, stream=True)\n",
    "    \n",
    "    if response.status_code == 200:\n",
    "        with open(zip_path, \"wb\") as file:\n",
    "            for chunk in response.iter_content(chunk_size=1024):\n",
    "                file.write(chunk)\n",
    "        print(\"Download concluído.\")\n",
    "    else:\n",
    "        print(\"Erro ao baixar o arquivo.\")\n",
    "        return\n",
    "\n",
    "    # Extrair os arquivos\n",
    "    print(\"Extraindo arquivos...\")\n",
    "    with zipfile.ZipFile(zip_path, \"r\") as zip_ref:\n",
    "        zip_ref.extractall(destination)\n",
    "    \n",
    "    print(f\"Arquivos extraídos para {destination}\")\n",
    "    \n",
    "    # Remover o ZIP\n",
    "    os.remove(zip_path)\n",
    "\n",
    "# Executar a função\n",
    "download_and_extract_mitdb()\n"
   ]
  },
  {
   "cell_type": "code",
   "execution_count": null,
   "metadata": {},
   "outputs": [
    {
     "name": "stdout",
     "output_type": "stream",
     "text": [
      "Downloading files...\n"
     ]
    },
    {
     "ename": "NetFileNotFoundError",
     "evalue": "404 Error: Not Found for url: https://physionet.org/files/mitdb/1.0.0/100",
     "output_type": "error",
     "traceback": [
      "\u001b[31m---------------------------------------------------------------------------\u001b[39m",
      "\u001b[31mNetFileNotFoundError\u001b[39m                      Traceback (most recent call last)",
      "\u001b[36mCell\u001b[39m\u001b[36m \u001b[39m\u001b[32mIn[10]\u001b[39m\u001b[32m, line 36\u001b[39m\n\u001b[32m     33\u001b[39m     \u001b[38;5;28;01mreturn\u001b[39;00m peaks\n\u001b[32m     35\u001b[39m \u001b[38;5;66;03m# Executar pipeline\u001b[39;00m\n\u001b[32m---> \u001b[39m\u001b[32m36\u001b[39m signal = \u001b[43mload_ecg\u001b[49m\u001b[43m(\u001b[49m\u001b[43m)\u001b[49m\n\u001b[32m     37\u001b[39m filtered_signal = lowpass_filter(signal)\n\u001b[32m     38\u001b[39m r_peaks = detect_r_peaks(filtered_signal)\n",
      "\u001b[36mCell\u001b[39m\u001b[36m \u001b[39m\u001b[32mIn[10]\u001b[39m\u001b[32m, line 18\u001b[39m, in \u001b[36mload_ecg\u001b[39m\u001b[34m()\u001b[39m\n\u001b[32m     17\u001b[39m \u001b[38;5;28;01mdef\u001b[39;00m\u001b[38;5;250m \u001b[39m\u001b[34mload_ecg\u001b[39m():\n\u001b[32m---> \u001b[39m\u001b[32m18\u001b[39m     record_name = \u001b[43mdownload_ecg\u001b[49m\u001b[43m(\u001b[49m\u001b[43m)\u001b[49m\n\u001b[32m     19\u001b[39m     record = wfdb.rdrecord(record_name, sampto=\u001b[32m3000\u001b[39m)\n\u001b[32m     20\u001b[39m     signal = record.p_signal[:, \u001b[32m0\u001b[39m]  \u001b[38;5;66;03m# Apenas um canal\u001b[39;00m\n",
      "\u001b[36mCell\u001b[39m\u001b[36m \u001b[39m\u001b[32mIn[10]\u001b[39m\u001b[32m, line 13\u001b[39m, in \u001b[36mdownload_ecg\u001b[39m\u001b[34m()\u001b[39m\n\u001b[32m     11\u001b[39m \u001b[38;5;28;01mdef\u001b[39;00m\u001b[38;5;250m \u001b[39m\u001b[34mdownload_ecg\u001b[39m():\n\u001b[32m     12\u001b[39m     record_name = \u001b[33m\"\u001b[39m\u001b[33m100\u001b[39m\u001b[33m\"\u001b[39m\n\u001b[32m---> \u001b[39m\u001b[32m13\u001b[39m     \u001b[43mwfdb\u001b[49m\u001b[43m.\u001b[49m\u001b[43mdl_files\u001b[49m\u001b[43m(\u001b[49m\u001b[33;43m\"\u001b[39;49m\u001b[33;43mmitdb\u001b[39;49m\u001b[33;43m\"\u001b[39;49m\u001b[43m,\u001b[49m\u001b[43m \u001b[49m\u001b[43mos\u001b[49m\u001b[43m.\u001b[49m\u001b[43mgetcwd\u001b[49m\u001b[43m(\u001b[49m\u001b[43m)\u001b[49m\u001b[43m,\u001b[49m\u001b[43m \u001b[49m\u001b[43m[\u001b[49m\u001b[43mrecord_name\u001b[49m\u001b[43m]\u001b[49m\u001b[43m)\u001b[49m\n\u001b[32m     14\u001b[39m     \u001b[38;5;28;01mreturn\u001b[39;00m record_name\n",
      "\u001b[36mFile \u001b[39m\u001b[32m~/Documentos/PROJETOS/classificador-ecg/venv/lib/python3.12/site-packages/wfdb/io/download.py:545\u001b[39m, in \u001b[36mdl_files\u001b[39m\u001b[34m(db, dl_dir, files, keep_subdirs, overwrite)\u001b[39m\n\u001b[32m    542\u001b[39m \u001b[38;5;66;03m# Create multiple processes to download files.\u001b[39;00m\n\u001b[32m    543\u001b[39m \u001b[38;5;66;03m# Limit to 2 connections to avoid overloading the server\u001b[39;00m\n\u001b[32m    544\u001b[39m \u001b[38;5;28;01mwith\u001b[39;00m multiprocessing.dummy.Pool(processes=\u001b[32m2\u001b[39m) \u001b[38;5;28;01mas\u001b[39;00m pool:\n\u001b[32m--> \u001b[39m\u001b[32m545\u001b[39m     \u001b[43mpool\u001b[49m\u001b[43m.\u001b[49m\u001b[43mmap\u001b[49m\u001b[43m(\u001b[49m\u001b[43mdl_pn_file\u001b[49m\u001b[43m,\u001b[49m\u001b[43m \u001b[49m\u001b[43mdl_inputs\u001b[49m\u001b[43m)\u001b[49m\n\u001b[32m    546\u001b[39m \u001b[38;5;28mprint\u001b[39m(\u001b[33m\"\u001b[39m\u001b[33mFinished downloading files\u001b[39m\u001b[33m\"\u001b[39m)\n",
      "\u001b[36mFile \u001b[39m\u001b[32m/usr/lib/python3.12/multiprocessing/pool.py:367\u001b[39m, in \u001b[36mPool.map\u001b[39m\u001b[34m(self, func, iterable, chunksize)\u001b[39m\n\u001b[32m    362\u001b[39m \u001b[38;5;28;01mdef\u001b[39;00m\u001b[38;5;250m \u001b[39m\u001b[34mmap\u001b[39m(\u001b[38;5;28mself\u001b[39m, func, iterable, chunksize=\u001b[38;5;28;01mNone\u001b[39;00m):\n\u001b[32m    363\u001b[39m \u001b[38;5;250m    \u001b[39m\u001b[33;03m'''\u001b[39;00m\n\u001b[32m    364\u001b[39m \u001b[33;03m    Apply `func` to each element in `iterable`, collecting the results\u001b[39;00m\n\u001b[32m    365\u001b[39m \u001b[33;03m    in a list that is returned.\u001b[39;00m\n\u001b[32m    366\u001b[39m \u001b[33;03m    '''\u001b[39;00m\n\u001b[32m--> \u001b[39m\u001b[32m367\u001b[39m     \u001b[38;5;28;01mreturn\u001b[39;00m \u001b[38;5;28;43mself\u001b[39;49m\u001b[43m.\u001b[49m\u001b[43m_map_async\u001b[49m\u001b[43m(\u001b[49m\u001b[43mfunc\u001b[49m\u001b[43m,\u001b[49m\u001b[43m \u001b[49m\u001b[43miterable\u001b[49m\u001b[43m,\u001b[49m\u001b[43m \u001b[49m\u001b[43mmapstar\u001b[49m\u001b[43m,\u001b[49m\u001b[43m \u001b[49m\u001b[43mchunksize\u001b[49m\u001b[43m)\u001b[49m\u001b[43m.\u001b[49m\u001b[43mget\u001b[49m\u001b[43m(\u001b[49m\u001b[43m)\u001b[49m\n",
      "\u001b[36mFile \u001b[39m\u001b[32m/usr/lib/python3.12/multiprocessing/pool.py:774\u001b[39m, in \u001b[36mApplyResult.get\u001b[39m\u001b[34m(self, timeout)\u001b[39m\n\u001b[32m    772\u001b[39m     \u001b[38;5;28;01mreturn\u001b[39;00m \u001b[38;5;28mself\u001b[39m._value\n\u001b[32m    773\u001b[39m \u001b[38;5;28;01melse\u001b[39;00m:\n\u001b[32m--> \u001b[39m\u001b[32m774\u001b[39m     \u001b[38;5;28;01mraise\u001b[39;00m \u001b[38;5;28mself\u001b[39m._value\n",
      "\u001b[36mFile \u001b[39m\u001b[32m/usr/lib/python3.12/multiprocessing/pool.py:125\u001b[39m, in \u001b[36mworker\u001b[39m\u001b[34m(inqueue, outqueue, initializer, initargs, maxtasks, wrap_exception)\u001b[39m\n\u001b[32m    123\u001b[39m job, i, func, args, kwds = task\n\u001b[32m    124\u001b[39m \u001b[38;5;28;01mtry\u001b[39;00m:\n\u001b[32m--> \u001b[39m\u001b[32m125\u001b[39m     result = (\u001b[38;5;28;01mTrue\u001b[39;00m, \u001b[43mfunc\u001b[49m\u001b[43m(\u001b[49m\u001b[43m*\u001b[49m\u001b[43margs\u001b[49m\u001b[43m,\u001b[49m\u001b[43m \u001b[49m\u001b[43m*\u001b[49m\u001b[43m*\u001b[49m\u001b[43mkwds\u001b[49m\u001b[43m)\u001b[49m)\n\u001b[32m    126\u001b[39m \u001b[38;5;28;01mexcept\u001b[39;00m \u001b[38;5;167;01mException\u001b[39;00m \u001b[38;5;28;01mas\u001b[39;00m e:\n\u001b[32m    127\u001b[39m     \u001b[38;5;28;01mif\u001b[39;00m wrap_exception \u001b[38;5;129;01mand\u001b[39;00m func \u001b[38;5;129;01mis\u001b[39;00m \u001b[38;5;129;01mnot\u001b[39;00m _helper_reraises_exception:\n",
      "\u001b[36mFile \u001b[39m\u001b[32m/usr/lib/python3.12/multiprocessing/pool.py:48\u001b[39m, in \u001b[36mmapstar\u001b[39m\u001b[34m(args)\u001b[39m\n\u001b[32m     47\u001b[39m \u001b[38;5;28;01mdef\u001b[39;00m\u001b[38;5;250m \u001b[39m\u001b[34mmapstar\u001b[39m(args):\n\u001b[32m---> \u001b[39m\u001b[32m48\u001b[39m     \u001b[38;5;28;01mreturn\u001b[39;00m \u001b[38;5;28;43mlist\u001b[39;49m\u001b[43m(\u001b[49m\u001b[38;5;28;43mmap\u001b[39;49m\u001b[43m(\u001b[49m\u001b[43m*\u001b[49m\u001b[43margs\u001b[49m\u001b[43m)\u001b[49m\u001b[43m)\u001b[49m\n",
      "\u001b[36mFile \u001b[39m\u001b[32m~/Documentos/PROJETOS/classificador-ecg/venv/lib/python3.12/site-packages/wfdb/io/download.py:451\u001b[39m, in \u001b[36mdl_pn_file\u001b[39m\u001b[34m(inputs)\u001b[39m\n\u001b[32m    446\u001b[39m                 dl_full_file(url, local_file)\n\u001b[32m    447\u001b[39m             \u001b[38;5;66;03m# If they're the same size, do nothing.\u001b[39;00m\n\u001b[32m    448\u001b[39m \n\u001b[32m    449\u001b[39m \u001b[38;5;66;03m# The file doesn't exist. Download it.\u001b[39;00m\n\u001b[32m    450\u001b[39m \u001b[38;5;28;01melse\u001b[39;00m:\n\u001b[32m--> \u001b[39m\u001b[32m451\u001b[39m     \u001b[43mdl_full_file\u001b[49m\u001b[43m(\u001b[49m\u001b[43murl\u001b[49m\u001b[43m,\u001b[49m\u001b[43m \u001b[49m\u001b[43mlocal_file\u001b[49m\u001b[43m)\u001b[49m\n\u001b[32m    453\u001b[39m \u001b[38;5;28;01mreturn\u001b[39;00m\n",
      "\u001b[36mFile \u001b[39m\u001b[32m~/Documentos/PROJETOS/classificador-ecg/venv/lib/python3.12/site-packages/wfdb/io/download.py:473\u001b[39m, in \u001b[36mdl_full_file\u001b[39m\u001b[34m(url, save_file_name)\u001b[39m\n\u001b[32m    457\u001b[39m \u001b[38;5;250m\u001b[39m\u001b[33;03m\"\"\"\u001b[39;00m\n\u001b[32m    458\u001b[39m \u001b[33;03mDownload a file. No checks are performed.\u001b[39;00m\n\u001b[32m    459\u001b[39m \n\u001b[32m   (...)\u001b[39m\u001b[32m    470\u001b[39m \n\u001b[32m    471\u001b[39m \u001b[33;03m\"\"\"\u001b[39;00m\n\u001b[32m    472\u001b[39m \u001b[38;5;28;01mwith\u001b[39;00m _url.openurl(url, \u001b[33m\"\u001b[39m\u001b[33mrb\u001b[39m\u001b[33m\"\u001b[39m) \u001b[38;5;28;01mas\u001b[39;00m readfile:\n\u001b[32m--> \u001b[39m\u001b[32m473\u001b[39m     content = \u001b[43mreadfile\u001b[49m\u001b[43m.\u001b[49m\u001b[43mread\u001b[49m\u001b[43m(\u001b[49m\u001b[43m)\u001b[49m\n\u001b[32m    474\u001b[39m \u001b[38;5;28;01mwith\u001b[39;00m \u001b[38;5;28mopen\u001b[39m(save_file_name, \u001b[33m\"\u001b[39m\u001b[33mwb\u001b[39m\u001b[33m\"\u001b[39m) \u001b[38;5;28;01mas\u001b[39;00m writefile:\n\u001b[32m    475\u001b[39m     writefile.write(content)\n",
      "\u001b[36mFile \u001b[39m\u001b[32m~/Documentos/PROJETOS/classificador-ecg/venv/lib/python3.12/site-packages/wfdb/io/_url.py:581\u001b[39m, in \u001b[36mNetFile.read\u001b[39m\u001b[34m(self, size)\u001b[39m\n\u001b[32m    578\u001b[39m \u001b[38;5;28;01melse\u001b[39;00m:\n\u001b[32m    579\u001b[39m     \u001b[38;5;28;01mraise\u001b[39;00m \u001b[38;5;167;01mValueError\u001b[39;00m(\u001b[33m\"\u001b[39m\u001b[33minvalid size: \u001b[39m\u001b[38;5;132;01m%r\u001b[39;00m\u001b[33m\"\u001b[39m % (size,))\n\u001b[32m--> \u001b[39m\u001b[32m581\u001b[39m result = \u001b[33;43mb\u001b[39;49m\u001b[33;43m\"\u001b[39;49m\u001b[33;43m\"\u001b[39;49m\u001b[43m.\u001b[49m\u001b[43mjoin\u001b[49m\u001b[43m(\u001b[49m\u001b[38;5;28;43mself\u001b[39;49m\u001b[43m.\u001b[49m\u001b[43m_read_range\u001b[49m\u001b[43m(\u001b[49m\u001b[43mstart\u001b[49m\u001b[43m,\u001b[49m\u001b[43m \u001b[49m\u001b[43mend\u001b[49m\u001b[43m)\u001b[49m\u001b[43m)\u001b[49m\n\u001b[32m    582\u001b[39m \u001b[38;5;28mself\u001b[39m._pos += \u001b[38;5;28mlen\u001b[39m(result)\n\u001b[32m    583\u001b[39m \u001b[38;5;28;01mreturn\u001b[39;00m result\n",
      "\u001b[36mFile \u001b[39m\u001b[32m~/Documentos/PROJETOS/classificador-ecg/venv/lib/python3.12/site-packages/wfdb/io/_url.py:474\u001b[39m, in \u001b[36mNetFile._read_range\u001b[39m\u001b[34m(self, start, end)\u001b[39m\n\u001b[32m    471\u001b[39m         req_end = req_start + buffer_size\n\u001b[32m    472\u001b[39m         buffer_store = \u001b[38;5;28;01mTrue\u001b[39;00m\n\u001b[32m--> \u001b[39m\u001b[32m474\u001b[39m \u001b[38;5;28;01mwith\u001b[39;00m \u001b[43mRangeTransfer\u001b[49m\u001b[43m(\u001b[49m\u001b[38;5;28;43mself\u001b[39;49m\u001b[43m.\u001b[49m\u001b[43m_current_url\u001b[49m\u001b[43m,\u001b[49m\u001b[43m \u001b[49m\u001b[43mreq_start\u001b[49m\u001b[43m,\u001b[49m\u001b[43m \u001b[49m\u001b[43mreq_end\u001b[49m\u001b[43m)\u001b[49m \u001b[38;5;28;01mas\u001b[39;00m xfer:\n\u001b[32m    475\u001b[39m     \u001b[38;5;66;03m# Update current file URL.\u001b[39;00m\n\u001b[32m    476\u001b[39m     \u001b[38;5;28mself\u001b[39m._current_url = xfer.response_url\n\u001b[32m    478\u001b[39m     \u001b[38;5;66;03m# If we requested a range but the server doesn't support\u001b[39;00m\n\u001b[32m    479\u001b[39m     \u001b[38;5;66;03m# random access, then unless buffering is disabled, save\u001b[39;00m\n\u001b[32m    480\u001b[39m     \u001b[38;5;66;03m# entire file in the buffer.\u001b[39;00m\n",
      "\u001b[36mFile \u001b[39m\u001b[32m~/Documentos/PROJETOS/classificador-ecg/venv/lib/python3.12/site-packages/wfdb/io/_url.py:168\u001b[39m, in \u001b[36mRangeTransfer.__init__\u001b[39m\u001b[34m(self, url, start, end)\u001b[39m\n\u001b[32m    166\u001b[39m \u001b[38;5;28mself\u001b[39m._content_iter = \u001b[38;5;28mself\u001b[39m._response.iter_content(\u001b[32m4096\u001b[39m)\n\u001b[32m    167\u001b[39m \u001b[38;5;28;01mtry\u001b[39;00m:\n\u001b[32m--> \u001b[39m\u001b[32m168\u001b[39m     \u001b[38;5;28;43mself\u001b[39;49m\u001b[43m.\u001b[49m\u001b[43m_parse_headers\u001b[49m\u001b[43m(\u001b[49m\u001b[43mmethod\u001b[49m\u001b[43m,\u001b[49m\u001b[43m \u001b[49m\u001b[38;5;28;43mself\u001b[39;49m\u001b[43m.\u001b[49m\u001b[43m_response\u001b[49m\u001b[43m)\u001b[49m\n\u001b[32m    169\u001b[39m \u001b[38;5;28;01mexcept\u001b[39;00m \u001b[38;5;167;01mException\u001b[39;00m:\n\u001b[32m    170\u001b[39m     \u001b[38;5;28mself\u001b[39m.close()\n",
      "\u001b[36mFile \u001b[39m\u001b[32m~/Documentos/PROJETOS/classificador-ecg/venv/lib/python3.12/site-packages/wfdb/io/_url.py:214\u001b[39m, in \u001b[36mRangeTransfer._parse_headers\u001b[39m\u001b[34m(self, method, response)\u001b[39m\n\u001b[32m    212\u001b[39m     \u001b[38;5;28;01melse\u001b[39;00m:\n\u001b[32m    213\u001b[39m         \u001b[38;5;28mcls\u001b[39m = NetFileError\n\u001b[32m--> \u001b[39m\u001b[32m214\u001b[39m     \u001b[38;5;28;01mraise\u001b[39;00m \u001b[38;5;28mcls\u001b[39m(\n\u001b[32m    215\u001b[39m         \u001b[33m\"\u001b[39m\u001b[38;5;132;01m%s\u001b[39;00m\u001b[33m Error: \u001b[39m\u001b[38;5;132;01m%s\u001b[39;00m\u001b[33m for url: \u001b[39m\u001b[38;5;132;01m%s\u001b[39;00m\u001b[33m\"\u001b[39m\n\u001b[32m    216\u001b[39m         % (response.status_code, response.reason, response.url),\n\u001b[32m    217\u001b[39m         url=response.url,\n\u001b[32m    218\u001b[39m         status_code=response.status_code,\n\u001b[32m    219\u001b[39m     )\n\u001b[32m    221\u001b[39m \u001b[38;5;66;03m# Parse the Content-Range if this is a partial response.\u001b[39;00m\n\u001b[32m    222\u001b[39m \u001b[38;5;28;01melif\u001b[39;00m response.status_code \u001b[38;5;129;01min\u001b[39;00m (\u001b[32m206\u001b[39m, \u001b[32m416\u001b[39m):\n",
      "\u001b[31mNetFileNotFoundError\u001b[39m: 404 Error: Not Found for url: https://physionet.org/files/mitdb/1.0.0/100"
     ]
    }
   ],
   "source": [
    "import wfdb\n",
    "import numpy as np\n",
    "import matplotlib.pyplot as plt\n",
    "from scipy.signal import find_peaks, butter, filtfilt\n",
    "from sklearn.model_selection import train_test_split\n",
    "from sklearn.ensemble import RandomForestClassifier\n",
    "from sklearn.metrics import accuracy_score\n",
    "import wfdb.processing\n",
    "\n",
    "# Função para carregar o ECG de um paciente\n",
    "def load_ecg(record_name=\"100\"):\n",
    "    record_path = f\"data/mitdb/{record_name}\"\n",
    "    \n",
    "    if not os.path.exists(f\"{record_path}.dat\"):\n",
    "        print(f\"Erro: Arquivo {record_name} não encontrado em {record_path}.\")\n",
    "        return None\n",
    "\n",
    "    record = wfdb.rdrecord(record_path, sampto=3000)  # Lê até 3000 amostras\n",
    "    signal = record.p_signal[:, 0]  # Pega apenas um canal\n",
    "\n",
    "    return signal\n",
    "\n",
    "# Filtro passa-baixa para remover ruídos de alta frequência\n",
    "def lowpass_filter(signal_data, cutoff=20, fs=360, order=4):\n",
    "    nyquist = 0.5 * fs\n",
    "    normal_cutoff = cutoff / nyquist\n",
    "    b, a = signal.butter(order, normal_cutoff, btype='low', analog=False)\n",
    "    return signal.filtfilt(b, a, signal_data)\n",
    "\n",
    "# Detecção dos picos R usando a derivada da curva e limiares\n",
    "def detect_r_peaks(signal_data, threshold=0.6):\n",
    "    diff_signal = np.diff(signal_data)  # Derivada do sinal\n",
    "    peaks, _ = signal.find_peaks(diff_signal, height=threshold)  # Detecta picos\n",
    "    return peaks\n",
    "\n",
    "signal = load_ecg()  # Carrega o sinal ECG\n",
    "if signal is not None:\n",
    "    filtered_signal = lowpass_filter(signal)  # Filtra o sinal\n",
    "    r_peaks = detect_r_peaks(filtered_signal)  # Detecta os picos R\n",
    "\n",
    "    # Plotando o ECG e os picos R detectados\n",
    "    plt.figure(figsize=(12, 4))\n",
    "    plt.plot(filtered_signal, label=\"Sinal Filtrado\")\n",
    "    plt.plot(r_peaks, filtered_signal[r_peaks], \"ro\", label=\"Picos R\")\n",
    "    plt.legend()\n",
    "    plt.title(\"Detecção de Picos R no ECG\")\n",
    "    plt.xlabel(\"Amostras\")\n",
    "    plt.ylabel(\"Amplitude\")\n",
    "    plt.show()"
   ]
  }
 ],
 "metadata": {
  "kernelspec": {
   "display_name": "venv",
   "language": "python",
   "name": "python3"
  },
  "language_info": {
   "codemirror_mode": {
    "name": "ipython",
    "version": 3
   },
   "file_extension": ".py",
   "mimetype": "text/x-python",
   "name": "python",
   "nbconvert_exporter": "python",
   "pygments_lexer": "ipython3",
   "version": "3.12.3"
  }
 },
 "nbformat": 4,
 "nbformat_minor": 2
}
